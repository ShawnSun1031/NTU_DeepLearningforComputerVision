{
 "cells": [
  {
   "cell_type": "code",
   "execution_count": 25,
   "metadata": {},
   "outputs": [],
   "source": [
    "import torch\n",
    "import numpy as np\n",
    "from tqdm import tqdm\n",
    "import os\n",
    "import matplotlib.pyplot as plt\n",
    "import json \n",
    "from torch.utils.data import DataLoader, Dataset\n",
    "from PIL import Image\n",
    "import torchvision\n",
    "import torch.nn as nn\n",
    "import torch.optim as optim\n",
    "import pandas as pd\n",
    "import torch.nn.functional as F\n",
    "import cv2"
   ]
  },
  {
   "cell_type": "code",
   "execution_count": 26,
   "metadata": {},
   "outputs": [],
   "source": [
    "def read_yolov5(kind=\"test\"):\n",
    "    dic = torch.load(\"./test.pth\")\n",
    "    t = 0\n",
    "    out = \"id,label,coords\\n\"\n",
    "    for key in sorted(list(dic.keys())):\n",
    "        out += \"%s,%s,\"%(key.replace(\".jpg\",\"\"),\"1\")\n",
    "        for xywh,c in dic[key]:\n",
    "            x,y,w,h = xywh\n",
    "            if c > t:\n",
    "                out += \"%s %s \"%(int(x),int(y))\n",
    "        out += \"\\n\"\n",
    "    with open(\"pred/ensemble_yolov5_%s.csv\"%(kind),\"w\") as f:\n",
    "        f.write(out)\n",
    "read_yolov5(\"train\")\n",
    "# read_yolov5(\"test\")"
   ]
  },
  {
   "cell_type": "code",
   "execution_count": 21,
   "metadata": {},
   "outputs": [],
   "source": [
    "def merge(kind):\n",
    "    df_cls=pd.read_csv(\"pred/clf_%s.csv\"%('test'))\n",
    "    df_coord=pd.read_csv(\"pred/alex_yolov5_%s.csv\"%(kind))\n",
    "    out = \"id,label,coords\\n\"\n",
    "    for row_cls,row_coord in zip(df_cls.iterrows(),df_coord.iterrows()):\n",
    "        if row_cls[1][\"label\"] == 0:\n",
    "            out+=\"%s,0,\\n\"%(row_cls[1][\"id\"])\n",
    "        else:\n",
    "            if str(row_coord[1][\"coords\"])==\"nan\":\n",
    "                out+=\"%s,-1,\\n\"%(row_cls[1][\"id\"])\n",
    "            else:\n",
    "                out+=\"%s,1,%s\\n\"%(row_cls[1][\"id\"],row_coord[1][\"coords\"])\n",
    "    with open(\"pred/alex_merge_%s.csv\"%(kind),\"w\") as f:\n",
    "        f.write(out)\n",
    "# merge(\"train\")\n",
    "merge(\"test\")"
   ]
  }
 ],
 "metadata": {
  "kernelspec": {
   "display_name": "Python 3",
   "language": "python",
   "name": "python3"
  },
  "language_info": {
   "codemirror_mode": {
    "name": "ipython",
    "version": 3
   },
   "file_extension": ".py",
   "mimetype": "text/x-python",
   "name": "python",
   "nbconvert_exporter": "python",
   "pygments_lexer": "ipython3",
   "version": "3.9.7"
  }
 },
 "nbformat": 4,
 "nbformat_minor": 4
}
