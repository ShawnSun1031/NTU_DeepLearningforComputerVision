{
 "cells": [
  {
   "cell_type": "code",
   "execution_count": 2,
   "metadata": {},
   "outputs": [],
   "source": [
    "import torch\n",
    "import numpy as np\n",
    "from tqdm import tqdm\n",
    "import os\n",
    "import matplotlib.pyplot as plt\n",
    "import json \n",
    "from torch.utils.data import DataLoader, Dataset\n",
    "from PIL import Image\n",
    "import torchvision\n",
    "import torch.nn as nn\n",
    "import torch.optim as optim\n",
    "import pandas as pd\n",
    "from models import c3d, squeezenet, mobilenet, shufflenet, mobilenetv2, shufflenetv2, resnext, resnet\n",
    "import torch.nn.functional as F\n",
    "from scipy.ndimage import rotate\n",
    "device = \"cuda: 0\""
   ]
  },
  {
   "cell_type": "code",
   "execution_count": 4,
   "metadata": {},
   "outputs": [],
   "source": [
    "class SkullDataset(Dataset):\n",
    "    def __init__(self, data_dir,z_dim=48):\n",
    "        self.data_dir = data_dir\n",
    "        self.split_indices = sorted(os.listdir(data_dir))\n",
    "        self.len = len(self.split_indices)\n",
    "        self.z_dim= z_dim\n",
    "    def __getitem__(self, index):\n",
    "        root = os.path.join(self.data_dir,self.split_indices[index])\n",
    "        imgs = []\n",
    "        original_z = len(os.listdir(root))\n",
    "        imgs = np.zeros([1,1,original_z,512,512]).astype(\"float\")\n",
    "        for i,imgName in enumerate(sorted(os.listdir(root))):\n",
    "            name = imgName.replace(\".npy\",\"\")\n",
    "            path = os.path.join(root,imgName)\n",
    "            imgs[0,0,i,:,:] = np.load(path).astype(\"float\")\n",
    "        imgs = (imgs - imgs.min())/(imgs.max()-imgs.min())\n",
    "        imgs = (imgs - 0.5) * 2.\n",
    "        imgs = torch.from_numpy(imgs)\n",
    "        imgs = F.interpolate(imgs,(self.z_dim,512,512))[0]\n",
    "        return imgs\n",
    "    def __len__(self):\n",
    "        return self.len\n"
   ]
  },
  {
   "cell_type": "code",
   "execution_count": 7,
   "metadata": {},
   "outputs": [],
   "source": [
    "def pred(kind,modelName,modelPath,z_dim=48,dsPath=\"skull\"):\n",
    "    valSet = SkullDataset(os.path.join(dsPath,\"%s/\"%(kind)),z_dim)\n",
    "    BATCH_SIZE = 4\n",
    "    valLoader = DataLoader(valSet, batch_size=BATCH_SIZE, num_workers=4, drop_last=False, shuffle = False)\n",
    "    model = getattr(resnet,modelName)(\n",
    "                    num_classes=2,\n",
    "                    sample_size=512,\n",
    "                    sample_duration=z_dim)\n",
    "    model.conv1 = nn.Conv3d(1,64,kernel_size=(7, 7, 7), stride=(1, 2, 2), padding=(3, 3, 3), bias=False)\n",
    "    model.to(device)\n",
    "    model.load_state_dict(torch.load(modelPath,map_location=device))\n",
    "    model.eval()\n",
    "    with torch.no_grad():\n",
    "        preds = []\n",
    "        for img in tqdm(valLoader):\n",
    "            img = img.float().to(device)\n",
    "            pred = model(img)\n",
    "            preds.append(torch.max(pred,dim=1)[1].detach().cpu().numpy())    \n",
    "        preds = np.concatenate(preds)\n",
    "    f = open(\"pred/%s_%s.csv\"%(modelName,kind),\"w\")\n",
    "    f.write(\"id,label,coords\\n\")\n",
    "    for i,p in enumerate(preds):\n",
    "        for fn in sorted(os.listdir(os.path.join(valSet.data_dir,valSet.split_indices[i]))):\n",
    "            fn = fn.replace(\".npy\",\"\")\n",
    "            if p == 1:\n",
    "                f.write(fn+\",1,0 0\")\n",
    "            else:\n",
    "                f.write(fn+\",0,\")\n",
    "            f.write(\"\\n\")\n",
    "    f.close()\n",
    "    del model\n",
    "\n"
   ]
  },
  {
   "cell_type": "code",
   "execution_count": 10,
   "metadata": {},
   "outputs": [
    {
     "name": "stderr",
     "output_type": "stream",
     "text": [
      "100%|██████████| 33/33 [00:21<00:00,  1.57it/s]\n",
      "100%|██████████| 33/33 [00:29<00:00,  1.13it/s]\n",
      "100%|██████████| 33/33 [00:26<00:00,  1.22it/s]\n"
     ]
    }
   ],
   "source": [
    "dsPath = \"../dlcv_final/skull\"\n",
    "models = {#\"resnet101\":(\"model/3DCNN_resnet101/0.849_60.pth\",36),\n",
    "         \"resnet18\":(\"model/3DCNN_resnet18/0.859_47.pth\",48),\n",
    "         \"resnet34\":(\"model/3DCNN_resnet34/0.862_26.pth\",48),\n",
    "         \"resnet50\":(\"model/3DCNN_resnet50/0.871_59.pth\",48),}\n",
    "         \n",
    "# for kind in [\"train\",\"test\"]:\n",
    "for kind in [\"test\"]:\n",
    "    for key in models.keys():\n",
    "        pred(kind,key,*models[key],dsPath=dsPath)\n"
   ]
  },
  {
   "cell_type": "code",
   "execution_count": 11,
   "metadata": {},
   "outputs": [],
   "source": [
    "num_of_models = len(models.keys())\n",
    "if num_of_models % 2 == 1:\n",
    "    N = num_of_models // 2 + 1\n",
    "else:\n",
    "    N = num_of_models //2\n",
    "# N : voting threshold\n",
    "#for kind in [\"train\",\"test\"]:\n",
    "for kind in [\"test\"]:\n",
    "    df = []\n",
    "    for model in models.keys():\n",
    "        if len(df) == 0:\n",
    "            df = pd.read_csv(\"pred/%s_%s.csv\"%(model,kind))\n",
    "        else:\n",
    "            df[\"label\"] =  df[\"label\"] + pd.read_csv(\"pred/%s_%s.csv\"%(model,kind))[\"label\"]\n",
    "    df[\"label\"] = (df[\"label\"] >= N).astype(\"int\")\n",
    "    df.to_csv(\"pred/clf_%s.csv\"%(kind),index=0)"
   ]
  },
  {
   "cell_type": "code",
   "execution_count": null,
   "metadata": {},
   "outputs": [],
   "source": []
  }
 ],
 "metadata": {
  "kernelspec": {
   "display_name": "Python 3",
   "language": "python",
   "name": "python3"
  },
  "language_info": {
   "codemirror_mode": {
    "name": "ipython",
    "version": 3
   },
   "file_extension": ".py",
   "mimetype": "text/x-python",
   "name": "python",
   "nbconvert_exporter": "python",
   "pygments_lexer": "ipython3",
   "version": "3.6.9"
  }
 },
 "nbformat": 4,
 "nbformat_minor": 4
}
