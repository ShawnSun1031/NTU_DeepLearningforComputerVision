{
 "cells": [
  {
   "cell_type": "code",
   "execution_count": 1,
   "metadata": {},
   "outputs": [],
   "source": [
    "import torch\n",
    "import numpy as np\n",
    "from tqdm import tqdm\n",
    "import os\n",
    "import matplotlib.pyplot as plt\n",
    "import json \n",
    "from torch.utils.data import DataLoader, Dataset\n",
    "from PIL import Image\n",
    "import torchvision\n",
    "import torch.nn as nn\n",
    "import torch.optim as optim\n",
    "import pandas as pd\n",
    "import torch.nn.functional as F\n",
    "import cv2"
   ]
  },
  {
   "cell_type": "code",
   "execution_count": null,
   "metadata": {},
   "outputs": [],
   "source": [
    "def read_yolov5(kind=\"train\"):\n",
    "    dic = torch.load(\"pred/%s.pth\"%(kind))\n",
    "    t = 0\n",
    "    out = \"id,label,coords\\n\"\n",
    "    for key in sorted(list(dic.keys())):\n",
    "        out += \"%s,%s,\"%(key.replace(\".jpg\",\"\"),\"1\")\n",
    "        for xywh,c in dic[key]:\n",
    "            x,y,w,h = xywh\n",
    "            if c > t:\n",
    "                out += \"%s %s \"%(int(x),int(y))\n",
    "        out += \"\\n\"\n",
    "    with open(\"pred/yolov5_%s.csv\"%(kind),\"w\") as f:\n",
    "        f.write(out)\n",
    "read_yolov5(\"train\")\n",
    "read_yolov5(\"test\")"
   ]
  },
  {
   "cell_type": "code",
   "execution_count": null,
   "metadata": {},
   "outputs": [],
   "source": [
    "def merge(kind):\n",
    "    df_cls=pd.read_csv(\"pred/clf_%s.csv\"%(kind))\n",
    "    df_coord=pd.read_csv(\"pred/yolov5_%s.csv\"%(kind))\n",
    "    out = \"id,label,coords\\n\"\n",
    "    for row_cls,row_coord in zip(df_cls.iterrows(),df_coord.iterrows()):\n",
    "        if row_cls[1][\"label\"] == 0:\n",
    "            out+=\"%s,0,\\n\"%(row_cls[1][\"id\"])\n",
    "        else:\n",
    "            if str(row_coord[1][\"coords\"])==\"nan\":\n",
    "                out+=\"%s,-1,\\n\"%(row_cls[1][\"id\"])\n",
    "            else:\n",
    "                out+=\"%s,1,%s\\n\"%(row_cls[1][\"id\"],row_coord[1][\"coords\"])\n",
    "    with open(\"pred/merge_%s.csv\"%(kind),\"w\") as f:\n",
    "        f.write(out)\n",
    "merge(\"train\")\n",
    "merge(\"test\")"
   ]
  },
  {
   "cell_type": "code",
   "execution_count": null,
   "metadata": {},
   "outputs": [],
   "source": [
    "def compute_points(j,coords,t_dis=32):\n",
    "    if len(coords) % 2 == 0:\n",
    "        t = len(coords)//2\n",
    "    else:\n",
    "        t = len(coords)//2 + 1\n",
    "        \n",
    "        \n",
    "    if len(coords[j]) == 0:\n",
    "        return []\n",
    "    else:\n",
    "        comp = list(range(len(coords)))\n",
    "        comp.remove(j)\n",
    "        valid_points = []\n",
    "        for (x,y) in coords[j]:\n",
    "            count = 1\n",
    "            for k in comp:\n",
    "                for (xc,yc) in coords[k]:\n",
    "                    if abs(x-xc)+abs(y-yc) < t_dis:\n",
    "                        count += 1\n",
    "                        break\n",
    "            if count >= t:\n",
    "                valid_points.append((x,y))\n",
    "        return valid_points\n",
    "                \n",
    "def ps2str(ps):\n",
    "    s = \"\"\n",
    "    for (x,y) in ps:\n",
    "        s += \"%s %s \"%(x,y)\n",
    "    return s\n",
    "    \n",
    "def mergeyolos(*paths,out_path):\n",
    "    dfs = []\n",
    "    for path in paths:\n",
    "        dfs.append(pd.read_csv(path))\n",
    "    out = \"id,label,coords\\n\"\n",
    "    for i in range(len(dfs[0][\"coords\"])):    \n",
    "        coords = []\n",
    "        for j in range(len(dfs)):\n",
    "            if str(dfs[j][\"coords\"][i])==\"nan\":\n",
    "                coords.append([])\n",
    "            else:\n",
    "                xys = dfs[j][\"coords\"][i].split(\" \")\n",
    "                dfj_coords = []\n",
    "                for l in range(len(xys)//2):\n",
    "                    dfj_coords.append([int(xys[2*l]),int(xys[2*l+1])])\n",
    "                coords.append(dfj_coords)\n",
    "        ps = []\n",
    "        for j in range(len(coords)):\n",
    "            ps += compute_points(j,coords)\n",
    "#         print(dfs[0][\"id\"][i])\n",
    "        if len(ps) == 0:\n",
    "            out+=\"%s,-1,\\n\"%(dfs[0][\"id\"][i])\n",
    "        else:\n",
    "            out+=\"%s,1,%s\\n\"%(dfs[0][\"id\"][i],ps2str(ps))            \n",
    "    with open(\"%s\"%(out_path),\"w\") as f:\n",
    "        f.write(out)\n"
   ]
  },
  {
   "cell_type": "code",
   "execution_count": null,
   "metadata": {},
   "outputs": [],
   "source": [
    "mergeyolos(\"pred/0.62_test.csv\",\"pred/0.66_test.csv\",\"pred/0.69_test.csv\",out_path=\"pred/mergeyolo_test.csv\")"
   ]
  },
  {
   "cell_type": "code",
   "execution_count": 2,
   "metadata": {},
   "outputs": [],
   "source": [
    "def merge_clf_yolos(kind):\n",
    "    df_cls=pd.read_csv(\"pred/shun_%s.csv\"%(kind))\n",
    "    df_coord=pd.read_csv(\"pred/mergeyolo_%s.csv\"%(kind))\n",
    "    out = \"id,label,coords\\n\"\n",
    "    for row_cls,row_coord in zip(df_cls.iterrows(),df_coord.iterrows()):\n",
    "        if row_cls[1][\"label\"] == 0:\n",
    "            out+=\"%s,0,\\n\"%(row_cls[1][\"id\"])\n",
    "        else:\n",
    "            if str(row_coord[1][\"coords\"])==\"nan\":\n",
    "                out+=\"%s,-1,\\n\"%(row_cls[1][\"id\"])\n",
    "            else:\n",
    "                out+=\"%s,1,%s\\n\"%(row_cls[1][\"id\"],row_coord[1][\"coords\"])\n",
    "    with open(\"pred/shun_merge_%s.csv\"%(kind),\"w\") as f:\n",
    "        f.write(out)\n",
    "merge_clf_yolos(\"test\")"
   ]
  },
  {
   "cell_type": "code",
   "execution_count": null,
   "metadata": {},
   "outputs": [],
   "source": []
  }
 ],
 "metadata": {
  "kernelspec": {
   "display_name": "Python 3",
   "language": "python",
   "name": "python3"
  },
  "language_info": {
   "codemirror_mode": {
    "name": "ipython",
    "version": 3
   },
   "file_extension": ".py",
   "mimetype": "text/x-python",
   "name": "python",
   "nbconvert_exporter": "python",
   "pygments_lexer": "ipython3",
   "version": "3.6.9"
  }
 },
 "nbformat": 4,
 "nbformat_minor": 4
}
